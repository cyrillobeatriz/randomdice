{
 "cells": [
  {
   "cell_type": "code",
   "execution_count": 8,
   "id": "3f555c36-d9cc-4cfd-ba9b-c63303d34b29",
   "metadata": {},
   "outputs": [
    {
     "name": "stdout",
     "output_type": "stream",
     "text": [
      "6\n",
      "3\n",
      "that's nice you can eat 5\n"
     ]
    }
   ],
   "source": [
    "# Import numpy and set seed\n",
    "import numpy as np\n",
    "np.random.seed(123)\n",
    "\n",
    "# Use randint() to simulate a dice\n",
    "print(np.random.randint(1,7))\n",
    "\n",
    "# Use randint() again\n",
    "print(np.random.randint(1,7))\n",
    "# Set the number of the cookies you can eat\n",
    "cookies = 15\n",
    "\n",
    "# Roll the dice\n",
    "dice = np.random.randint(1, 7)\n",
    "\n",
    "# Finish the control construct\n",
    "if dice <= 2 :\n",
    "    cookies = cookies - 1\n",
    "    print(\"too bad you can eat only \" + str(dice))\n",
    "elif dice in (3, 4, 5) :\n",
    "   cookies = cookies + 1\n",
    "   print(\"that's nice you can eat \" + str(dice))\n",
    "else :\n",
    "    cookies = cookies + np.random.randint(1,7)\n",
    "    print(\"I'm sorry, you can't eat now.\")\n"
   ]
  },
  {
   "cell_type": "code",
   "execution_count": null,
   "id": "9b025a6b-5d00-4bfb-96a5-ce5eadaad9b7",
   "metadata": {},
   "outputs": [],
   "source": []
  },
  {
   "cell_type": "code",
   "execution_count": null,
   "id": "1bc54c97-00e0-48d6-a8be-40138bd9e225",
   "metadata": {},
   "outputs": [],
   "source": []
  }
 ],
 "metadata": {
  "kernelspec": {
   "display_name": "Python 3 (ipykernel)",
   "language": "python",
   "name": "python3"
  },
  "language_info": {
   "codemirror_mode": {
    "name": "ipython",
    "version": 3
   },
   "file_extension": ".py",
   "mimetype": "text/x-python",
   "name": "python",
   "nbconvert_exporter": "python",
   "pygments_lexer": "ipython3",
   "version": "3.12.6"
  }
 },
 "nbformat": 4,
 "nbformat_minor": 5
}
